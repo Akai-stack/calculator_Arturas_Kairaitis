{
 "cells": [
  {
   "cell_type": "markdown",
   "id": "ba0ef924",
   "metadata": {},
   "source": [
    "## Installation\n",
    "\n",
    "Create a virtual environment and install the package from TestPyPI:\n",
    "\n",
    "```bash\n",
    " pip install -i https://test.pypi.org/simple/ calculator-Arturas-Kairaitis==0.0.2\n",
    "\n",
    "```\n",
    "once installed import the package:\n",
    "\n",
    "```bash\n",
    "from calculator_Arturas_Kairaitis import calculator\n",
    "```\n",
    "\n",
    "***"
   ]
  },
  {
   "cell_type": "code",
   "execution_count": 7,
   "id": "eb96899f",
   "metadata": {},
   "outputs": [
    {
     "name": "stdout",
     "output_type": "stream",
     "text": [
      "Looking in indexes: https://test.pypi.org/simple/\n",
      "Requirement already satisfied: calculator-Arturas-Kairaitis==0.0.2 in c:\\users\\kaira\\anaconda3\\lib\\site-packages (0.0.2)\n",
      "Note: you may need to restart the kernel to use updated packages.\n"
     ]
    }
   ],
   "source": [
    " pip install -i https://test.pypi.org/simple/ calculator-Arturas-Kairaitis==0.0.2"
   ]
  },
  {
   "cell_type": "markdown",
   "id": "7337bc3d",
   "metadata": {},
   "source": [
    "***\n",
    "\n",
    "## Usage once Installed\n",
    "\n",
    "```bash\n",
    "Enter Operation (add, subtract, multiply, divide, reset, n_root, exit)\n",
    "\n",
    "```\n",
    "\n",
    "Note that it starts with zero and compounds depending on operation until 'reset' function used or 'exit' used and operations reset from 0 again.\n",
    "\n",
    "\n",
    "\n",
    "### Limitations:\n",
    "\n",
    "- The methods take only integer and floats.\n",
    "\n",
    "- If you try to divide by zero (Calculator.divide(0)), outcome will be: \n",
    " \n",
    " 'Invalid Operation'\n",
    " \n",
    " ***\n"
   ]
  },
  {
   "cell_type": "code",
   "execution_count": null,
   "id": "34291eac",
   "metadata": {},
   "outputs": [
    {
     "name": "stdout",
     "output_type": "stream",
     "text": [
      "Enter Operation (add, subtract, multiply, divide, reset, n_root, exit):\n"
     ]
    }
   ],
   "source": [
    "from calculator_Arturas_Kairaitis import calculator"
   ]
  },
  {
   "cell_type": "code",
   "execution_count": null,
   "id": "9ffcaab7",
   "metadata": {},
   "outputs": [],
   "source": []
  },
  {
   "cell_type": "markdown",
   "id": "15582c32",
   "metadata": {},
   "source": [
    "***\n",
    "## Overview of the methods:\n",
    "\n",
    "- __init__(self): Initializes the Calculator object with a default value of 0.\n",
    "- add(self, num): Adds num to the result and returns the updated result.\n",
    "- subtract(self, num): Subtracts num from the result and returns the updated result.\n",
    "- multiply(self, num): Multiplies the result by num and returns the updated result.\n",
    "- divide(self, num): Divides the result by num and returns the updated result.\n",
    "- n_root(self, n): Calculates the n-th root of the result and returns the result.\n",
    "- reset(self): Resets the result to 0 and returns the new value of result.\n",
    "***"
   ]
  },
  {
   "cell_type": "code",
   "execution_count": null,
   "id": "8f90a3ec",
   "metadata": {},
   "outputs": [
    {
     "name": "stdout",
     "output_type": "stream",
     "text": [
      "Enter Operation (add, subtract, multiply, divide, reset, n_root, exit):\n"
     ]
    }
   ],
   "source": [
    "class Calculator:\n",
    "    \"\"\"\n",
    "    A simple calculator class that supports basic arithmetic operations and the ability to reset\n",
    "    the current result and find the nth root of a number.\n",
    "    \"\"\"\n",
    "    def __init__(self):\n",
    "        \"\"\"\n",
    "        Initializes the calculator with a result of 0.\n",
    "        \"\"\"\n",
    "        self.result = 0\n",
    "\n",
    "    def add(self, num):\n",
    "        \"\"\"\n",
    "        Adds the specified number to the current result.\n",
    "\n",
    "        :param num: the number to add\n",
    "        :return: the updated result\n",
    "        \"\"\"\n",
    "        self.result += num\n",
    "        return self.result\n",
    "\n",
    "    def subtract(self, num):\n",
    "        \"\"\"\n",
    "        Subtracts the specified number from the current result.\n",
    "\n",
    "        :param num: the number to subtract\n",
    "        :return: the updated result\n",
    "        \"\"\"\n",
    "        self.result -= num\n",
    "        return self.result\n",
    "\n",
    "    def multiply(self, num):\n",
    "        \"\"\"\n",
    "        Multiplies the current result by the specified number.\n",
    "\n",
    "        :param num: the number to multiply by\n",
    "        :return: the updated result\n",
    "        \"\"\"\n",
    "        self.result *= num\n",
    "        return self.result\n",
    "\n",
    "    def divide(self, num):\n",
    "        \"\"\"\n",
    "        Divides the current result by the specified number.\n",
    "\n",
    "        :param num: the number to divide by\n",
    "        :return: the updated result\n",
    "        \"\"\"\n",
    "        self.result /= num\n",
    "        return self.result\n",
    "\n",
    "    def reset(self):\n",
    "        \"\"\"\n",
    "        Resets the current result to 0.\n",
    "\n",
    "        :return: the updated result\n",
    "        \"\"\"\n",
    "        self.result = 0\n",
    "        return self.result\n",
    "\n",
    "    def n_root(self, n):\n",
    "        \"\"\"\n",
    "        Finds the nth root of the current result.\n",
    "\n",
    "        :param n: the root to find\n",
    "        :return: the updated result\n",
    "        \"\"\"\n",
    "        self.result = n ** (1 / n)\n",
    "        return self.result\n",
    "\n",
    "\n",
    "def perform_operation(calc, operation, num=None):\n",
    "    \"\"\"\n",
    "    Performs the specified operation on the calculator with the given number, if applicable.\n",
    "\n",
    "    :param calc: the calculator object to use\n",
    "    :param operation: the operation to perform\n",
    "    :param num: the number to use in the operation, if applicable\n",
    "    :return: the result of the operation\n",
    "    \"\"\"\n",
    "    if operation == \"add\":\n",
    "        return calc.add(num)\n",
    "    elif operation == \"subtract\":\n",
    "        return calc.subtract(num)\n",
    "    elif operation == \"multiply\":\n",
    "        return calc.multiply(num)\n",
    "    elif operation == \"divide\":\n",
    "        return calc.divide(num)\n",
    "    elif operation == \"reset\":\n",
    "        return calc.reset()\n",
    "    elif operation == \"n_root\":\n",
    "        return calc.n_root(num)\n",
    "    else:\n",
    "        return \"Invalid Operation\"\n",
    "\n",
    "\n",
    "calc = Calculator()\n",
    "\n",
    "while True:\n",
    "    print(\"Enter Operation (add, subtract, multiply, divide, reset, n_root, exit):\")\n",
    "    operation = input().lower()\n",
    "\n",
    "    if operation == \"exit\":\n",
    "        break\n",
    "    elif operation in [\"add\", \"subtract\", \"multiply\", \"divide\", \"reset\"]:\n",
    "        if operation in [\"add\", \"subtract\", \"multiply\", \"divide\"]:\n",
    "            num = float(input(\"Enter number: \"))\n",
    "        else:\n",
    "            num = None\n",
    "\n",
    "        result = perform_operation(calc, operation, num)\n",
    "\n",
    "    elif operation == \"n_root\":\n",
    "        num = int(input(\"Enter root: \"))\n",
    "        result = perform_operation(calc, operation, num)\n",
    "\n",
    "    else:\n",
    "        result = perform_operation(calc, operation)\n",
    "\n",
    "    print(\"Result:\", result)\n"
   ]
  },
  {
   "cell_type": "code",
   "execution_count": null,
   "id": "911658f7",
   "metadata": {},
   "outputs": [],
   "source": []
  }
 ],
 "metadata": {
  "kernelspec": {
   "display_name": "Python 3 (ipykernel)",
   "language": "python",
   "name": "python3"
  },
  "language_info": {
   "codemirror_mode": {
    "name": "ipython",
    "version": 3
   },
   "file_extension": ".py",
   "mimetype": "text/x-python",
   "name": "python",
   "nbconvert_exporter": "python",
   "pygments_lexer": "ipython3",
   "version": "3.9.13"
  }
 },
 "nbformat": 4,
 "nbformat_minor": 5
}
